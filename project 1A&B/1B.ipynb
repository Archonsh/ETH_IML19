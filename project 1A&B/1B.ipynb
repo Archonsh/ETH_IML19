{
 "cells": [
  {
   "cell_type": "code",
   "execution_count": 1393,
   "metadata": {},
   "outputs": [],
   "source": [
    "import pandas as pd\n",
    "import numpy as np\n",
    "import csv\n",
    "from sklearn.linear_model import LinearRegression, RidgeCV, HuberRegressor, LassoLarsCV, LassoCV, ElasticNetCV\n",
    "from sklearn.metrics import mean_squared_error\n",
    "from math import sqrt\n",
    "from sklearn import preprocessing"
   ]
  },
  {
   "cell_type": "code",
   "execution_count": 1394,
   "metadata": {},
   "outputs": [],
   "source": [
    "df_original = pd.read_csv('./task1b_ow9d3s/train.csv')"
   ]
  },
  {
   "cell_type": "code",
   "execution_count": null,
   "metadata": {},
   "outputs": [],
   "source": []
  },
  {
   "cell_type": "code",
   "execution_count": 1395,
   "metadata": {},
   "outputs": [],
   "source": [
    "df = df_original.loc[:,'x1':'x5']"
   ]
  },
  {
   "cell_type": "code",
   "execution_count": 1396,
   "metadata": {},
   "outputs": [],
   "source": [
    "df_6_10 = df.apply(np.square, axis=0)\n",
    "df_6_10.columns = ['x6','x7','x8','x9','x10']"
   ]
  },
  {
   "cell_type": "code",
   "execution_count": 1397,
   "metadata": {},
   "outputs": [],
   "source": [
    "df_11_15 = df.apply(np.exp, axis=0)\n",
    "df_11_15.columns = ['x11','x12','x13','x14','x15']"
   ]
  },
  {
   "cell_type": "code",
   "execution_count": 1398,
   "metadata": {},
   "outputs": [],
   "source": [
    "df_16_20 = df.apply(np.cos, axis=0)\n",
    "df_16_20.columns = ['x16','x17','x18','x19','x20']"
   ]
  },
  {
   "cell_type": "code",
   "execution_count": 1399,
   "metadata": {},
   "outputs": [],
   "source": [
    "X = pd.concat([df,df_6_10,df_11_15,df_16_20], axis=1)"
   ]
  },
  {
   "cell_type": "code",
   "execution_count": 1400,
   "metadata": {},
   "outputs": [],
   "source": [
    "X['x21']=1"
   ]
  },
  {
   "cell_type": "code",
   "execution_count": 1401,
   "metadata": {
    "scrolled": true
   },
   "outputs": [
    {
     "data": {
      "text/plain": [
       "x1     0.979093\n",
       "x2     0.877247\n",
       "x3     1.012724\n",
       "x4     1.007811\n",
       "x5     0.977753\n",
       "x6     1.722689\n",
       "x7     1.457029\n",
       "x8     2.102223\n",
       "x9     1.876835\n",
       "x10    1.994064\n",
       "x11    3.430573\n",
       "x12    3.125853\n",
       "x13    4.607205\n",
       "x14    5.508600\n",
       "x15    4.366595\n",
       "x16    0.190692\n",
       "x17    0.168782\n",
       "x18    0.202964\n",
       "x19    0.193939\n",
       "x20    0.199527\n",
       "x21    0.000000\n",
       "dtype: float64"
      ]
     },
     "execution_count": 1401,
     "metadata": {},
     "output_type": "execute_result"
    }
   ],
   "source": [
    "X.var()"
   ]
  },
  {
   "cell_type": "code",
   "execution_count": 1402,
   "metadata": {},
   "outputs": [
    {
     "data": {
      "text/plain": [
       "x1    -0.061764\n",
       "x2     0.033038\n",
       "x3    -0.020488\n",
       "x4    -0.020213\n",
       "x5    -0.004203\n",
       "x6     0.981929\n",
       "x7     0.877462\n",
       "x8     1.012131\n",
       "x9     1.007212\n",
       "x10    0.976793\n",
       "x11    1.529451\n",
       "x12    1.596707\n",
       "x13    1.617992\n",
       "x14    1.643930\n",
       "x15    1.632265\n",
       "x16    0.606562\n",
       "x17    0.642624\n",
       "x18    0.603895\n",
       "x19    0.599528\n",
       "x20    0.616254\n",
       "x21    1.000000\n",
       "dtype: float64"
      ]
     },
     "execution_count": 1402,
     "metadata": {},
     "output_type": "execute_result"
    }
   ],
   "source": [
    "X.mean()"
   ]
  },
  {
   "cell_type": "code",
   "execution_count": 1403,
   "metadata": {},
   "outputs": [],
   "source": [
    "X = preprocessing.robust_scale(X)"
   ]
  },
  {
   "cell_type": "code",
   "execution_count": 1404,
   "metadata": {},
   "outputs": [],
   "source": [
    "y = df_original['y']"
   ]
  },
  {
   "cell_type": "code",
   "execution_count": 1405,
   "metadata": {},
   "outputs": [],
   "source": [
    "#model = RidgeCV(alphas=[1e-4, 5*1e-5, 1e-3, 1e-2, 5, 10, 50, 100, 150, 300, 400, 125, 0.5, 0.9, 0.33, 270.825, 270.85, 270.875, 270.9, 271, 272, 273, 275, 280])\n",
    "#model = HuberRegressor(epsilon=1.2, alpha=0.65)\n",
    "#model = LassoLarsCV(cv=10)\n",
    "#model = LassoCV(eps=0.001, n_alphas=10000, cv=10)\n",
    "\n",
    "# current best\n",
    "#model = ElasticNetCV(l1_ratio=[0.875,0.865,0.8685,0.8675,], eps=0.001, n_alphas=30000, max_iter=5000)\n",
    "\n",
    "model = ElasticNetCV(l1_ratio=[0.8, 0.85, 0.9], eps=0.001, n_alphas=1000, cv=50)\n",
    "#model = RidgeCV(alphas=[0.1, 0.268,0.269,0.267,0.3], cv=10, normalize=True )\n",
    "\n",
    "\n"
   ]
  },
  {
   "cell_type": "code",
   "execution_count": 1406,
   "metadata": {},
   "outputs": [
    {
     "data": {
      "text/plain": [
       "ElasticNetCV(alphas=None, copy_X=True, cv=50, eps=0.001, fit_intercept=True,\n",
       "       l1_ratio=[0.8, 0.85, 0.9], max_iter=1000, n_alphas=1000, n_jobs=1,\n",
       "       normalize=False, positive=False, precompute='auto',\n",
       "       random_state=None, selection='cyclic', tol=0.0001, verbose=0)"
      ]
     },
     "execution_count": 1406,
     "metadata": {},
     "output_type": "execute_result"
    }
   ],
   "source": [
    "model.fit(X,y)"
   ]
  },
  {
   "cell_type": "code",
   "execution_count": 1407,
   "metadata": {},
   "outputs": [],
   "source": [
    "with open('./task1b_ow9d3s/result.csv', 'w') as f:\n",
    "    csvwriter = csv.writer(f)\n",
    "    for coef in model.coef_:\n",
    "        csvwriter.writerow([coef])"
   ]
  },
  {
   "cell_type": "code",
   "execution_count": 1408,
   "metadata": {
    "scrolled": true
   },
   "outputs": [
    {
     "data": {
      "text/plain": [
       "array([ 0.79158361, -1.37402027,  0.        ,  0.41309744, -0.        ,\n",
       "       -0.9110721 ,  0.        , -0.31894936, -0.2001245 ,  0.78090164,\n",
       "        1.56972058, -0.        , -1.44945328,  0.        , -0.00832903,\n",
       "        0.65025206, -0.        ,  0.        ,  0.        ,  0.        ,\n",
       "        0.        ])"
      ]
     },
     "execution_count": 1408,
     "metadata": {},
     "output_type": "execute_result"
    }
   ],
   "source": [
    "model.coef_"
   ]
  },
  {
   "cell_type": "code",
   "execution_count": 1409,
   "metadata": {},
   "outputs": [
    {
     "data": {
      "text/plain": [
       "0.15389643313195156"
      ]
     },
     "execution_count": 1409,
     "metadata": {},
     "output_type": "execute_result"
    }
   ],
   "source": [
    "model.alpha_"
   ]
  },
  {
   "cell_type": "code",
   "execution_count": 1411,
   "metadata": {},
   "outputs": [
    {
     "data": {
      "text/plain": [
       "0.85"
      ]
     },
     "execution_count": 1411,
     "metadata": {},
     "output_type": "execute_result"
    }
   ],
   "source": [
    "model.l1_ratio_"
   ]
  },
  {
   "cell_type": "code",
   "execution_count": 1416,
   "metadata": {},
   "outputs": [],
   "source": [
    "xmin = 10000"
   ]
  },
  {
   "cell_type": "code",
   "execution_count": 1417,
   "metadata": {},
   "outputs": [],
   "source": [
    "for i in model.mse_path_:\n",
    "    for j in i:\n",
    "        xmin=min(xmin,j.mean())"
   ]
  },
  {
   "cell_type": "code",
   "execution_count": 1418,
   "metadata": {},
   "outputs": [
    {
     "data": {
      "text/plain": [
       "98.58923782055976"
      ]
     },
     "execution_count": 1418,
     "metadata": {},
     "output_type": "execute_result"
    }
   ],
   "source": [
    "xmin"
   ]
  },
  {
   "cell_type": "code",
   "execution_count": 1419,
   "metadata": {},
   "outputs": [
    {
     "data": {
      "text/plain": [
       "9.92921133930383"
      ]
     },
     "execution_count": 1419,
     "metadata": {},
     "output_type": "execute_result"
    }
   ],
   "source": [
    "sqrt(xmin)"
   ]
  },
  {
   "cell_type": "code",
   "execution_count": null,
   "metadata": {},
   "outputs": [],
   "source": []
  }
 ],
 "metadata": {
  "kernelspec": {
   "display_name": "Python 3",
   "language": "python",
   "name": "python3"
  },
  "language_info": {
   "codemirror_mode": {
    "name": "ipython",
    "version": 3
   },
   "file_extension": ".py",
   "mimetype": "text/x-python",
   "name": "python",
   "nbconvert_exporter": "python",
   "pygments_lexer": "ipython3",
   "version": "3.6.4"
  }
 },
 "nbformat": 4,
 "nbformat_minor": 2
}
