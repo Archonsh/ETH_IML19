{
 "cells": [
  {
   "cell_type": "code",
   "execution_count": 1571,
   "metadata": {},
   "outputs": [],
   "source": [
    "import pandas as pd\n",
    "import numpy as np\n",
    "import csv\n",
    "from sklearn.linear_model import LinearRegression, RidgeCV, HuberRegressor, LassoLarsCV, LassoCV, ElasticNetCV\n",
    "from sklearn.metrics import mean_squared_error\n",
    "from sklearn.model_selection import train_test_split\n",
    "from sklearn.preprocessing import scale\n",
    "\n",
    "from math import sqrt"
   ]
  },
  {
   "cell_type": "code",
   "execution_count": 1572,
   "metadata": {},
   "outputs": [],
   "source": [
    "df_original = pd.read_csv('./task1b_ow9d3s/train.csv')"
   ]
  },
  {
   "cell_type": "code",
   "execution_count": 1573,
   "metadata": {},
   "outputs": [],
   "source": [
    "y = df_original['y']"
   ]
  },
  {
   "cell_type": "code",
   "execution_count": 1574,
   "metadata": {},
   "outputs": [],
   "source": [
    "df = df_original.loc[:,'x1':'x5']"
   ]
  },
  {
   "cell_type": "code",
   "execution_count": 1575,
   "metadata": {},
   "outputs": [],
   "source": [
    "df_6_10 = df.apply(np.square, axis=0)\n",
    "df_6_10.columns = ['x6','x7','x8','x9','x10']"
   ]
  },
  {
   "cell_type": "code",
   "execution_count": 1576,
   "metadata": {},
   "outputs": [],
   "source": [
    "df_11_15 = df.apply(np.exp, axis=0)\n",
    "df_11_15.columns = ['x11','x12','x13','x14','x15']"
   ]
  },
  {
   "cell_type": "code",
   "execution_count": 1577,
   "metadata": {},
   "outputs": [],
   "source": [
    "df_16_20 = df.apply(np.cos, axis=0)\n",
    "df_16_20.columns = ['x16','x17','x18','x19','x20']"
   ]
  },
  {
   "cell_type": "code",
   "execution_count": 1578,
   "metadata": {},
   "outputs": [],
   "source": [
    "X = pd.concat([df,df_6_10,df_11_15,df_16_20], axis=1)"
   ]
  },
  {
   "cell_type": "code",
   "execution_count": 1579,
   "metadata": {},
   "outputs": [],
   "source": [
    "X['x21']=1"
   ]
  },
  {
   "cell_type": "code",
   "execution_count": 1580,
   "metadata": {},
   "outputs": [],
   "source": [
    "# no help on RMSE\n",
    "# X = scale(X) "
   ]
  },
  {
   "cell_type": "code",
   "execution_count": 1581,
   "metadata": {},
   "outputs": [],
   "source": [
    "# reserve 20% data as test set\n",
    "X_train, X_test, y_train, y_test = train_test_split(X, y, test_size=0.2)"
   ]
  },
  {
   "cell_type": "code",
   "execution_count": 1582,
   "metadata": {
    "scrolled": false
   },
   "outputs": [],
   "source": [
    "#model = RidgeCV(alphas=[1e-4, 5*1e-5, 1e-3, 1e-2, 5, 10, 50, 100, 150, 300, 400, 125, 0.5, 0.9, 0.33, 270.825, 270.85, 270.875, 270.9, 271, 272, 273, 275, 280])\n",
    "#model = HuberRegressor(epsilon=1.2, alpha=0.65)\n",
    "#model = LassoLarsCV(cv=10)\n",
    "#model = LassoCV(eps=0.001, n_alphas=10000, cv=10)\n",
    "\n",
    "# current best\n",
    "# model = ElasticNetCV(l1_ratio=[0.875,0.865,0.8685,0.8675,], eps=0.001, n_alphas=30000, cv=10)\n",
    "\n",
    "\n"
   ]
  },
  {
   "cell_type": "code",
   "execution_count": 1583,
   "metadata": {},
   "outputs": [],
   "source": [
    "RMSE=10000\n",
    "best_ratio=0\n",
    "best_alpha=0\n",
    "best_coef = []"
   ]
  },
  {
   "cell_type": "code",
   "execution_count": 1584,
   "metadata": {
    "scrolled": false
   },
   "outputs": [
    {
     "name": "stdout",
     "output_type": "stream",
     "text": [
      "RMSE: 9.504961\n",
      "RMSE: 9.508977\n",
      "RMSE: 9.507352\n",
      "RMSE: 9.506118\n",
      "RMSE: 9.523669\n",
      "RMSE: 9.536376\n",
      "RMSE: 9.542129\n",
      "RMSE: 9.550634\n"
     ]
    }
   ],
   "source": [
    "for ratio in [.02, .05, .1, .15,  .8, .9, .95, .99]:\n",
    "    model = ElasticNetCV(l1_ratio=ratio, eps=0.001, n_alphas=10000, cv=10, fit_intercept=False)\n",
    "    model.fit(X_train, y_train)\n",
    "    y_predicted = model.predict(X_test)\n",
    "    print(\"RMSE: %f\" % sqrt(mean_squared_error(y_test, y_predicted)))\n",
    "    if sqrt(mean_squared_error(y_test, y_predicted)) < RMSE:\n",
    "        RMSE = sqrt(mean_squared_error(y_test, y_predicted))\n",
    "        best_ratio = ratio\n",
    "        best_alpha = model.alpha_\n",
    "        best_coef = model.coef_"
   ]
  },
  {
   "cell_type": "code",
   "execution_count": 1585,
   "metadata": {},
   "outputs": [],
   "source": [
    "with open('./task1b_ow9d3s/elastic_explicit_%f.csv' % RMSE, 'w') as f:\n",
    "    csvwriter = csv.writer(f)\n",
    "    for coef in best_coef:\n",
    "        csvwriter.writerow([coef])"
   ]
  },
  {
   "cell_type": "code",
   "execution_count": 1586,
   "metadata": {
    "scrolled": false
   },
   "outputs": [
    {
     "data": {
      "text/plain": [
       "0.4324447175854548"
      ]
     },
     "execution_count": 1586,
     "metadata": {},
     "output_type": "execute_result"
    }
   ],
   "source": [
    "best_alpha"
   ]
  },
  {
   "cell_type": "code",
   "execution_count": 1587,
   "metadata": {},
   "outputs": [
    {
     "data": {
      "text/plain": [
       "0.02"
      ]
     },
     "execution_count": 1587,
     "metadata": {},
     "output_type": "execute_result"
    }
   ],
   "source": [
    "best_ratio"
   ]
  },
  {
   "cell_type": "code",
   "execution_count": 1588,
   "metadata": {
    "scrolled": true
   },
   "outputs": [
    {
     "data": {
      "text/plain": [
       "array([ 0.93685857, -0.49016885,  0.09410971,  0.25910238,  0.01590524,\n",
       "       -0.95163708,  0.11406282, -0.45290346, -0.45423595,  0.61241775,\n",
       "        0.79570944, -0.58980177, -0.86890592,  0.11567615, -0.05434786,\n",
       "        0.04793684, -0.33008649, -0.16837301, -0.24213433, -0.34973856,\n",
       "       -0.36417888])"
      ]
     },
     "execution_count": 1588,
     "metadata": {},
     "output_type": "execute_result"
    }
   ],
   "source": [
    "best_coef"
   ]
  },
  {
   "cell_type": "code",
   "execution_count": 1589,
   "metadata": {},
   "outputs": [
    {
     "data": {
      "text/plain": [
       "9.504961341262835"
      ]
     },
     "execution_count": 1589,
     "metadata": {},
     "output_type": "execute_result"
    }
   ],
   "source": [
    "RMSE"
   ]
  },
  {
   "cell_type": "code",
   "execution_count": null,
   "metadata": {},
   "outputs": [],
   "source": []
  },
  {
   "cell_type": "code",
   "execution_count": null,
   "metadata": {},
   "outputs": [],
   "source": []
  }
 ],
 "metadata": {
  "kernelspec": {
   "display_name": "Python 3",
   "language": "python",
   "name": "python3"
  },
  "language_info": {
   "codemirror_mode": {
    "name": "ipython",
    "version": 3
   },
   "file_extension": ".py",
   "mimetype": "text/x-python",
   "name": "python",
   "nbconvert_exporter": "python",
   "pygments_lexer": "ipython3",
   "version": "3.6.4"
  }
 },
 "nbformat": 4,
 "nbformat_minor": 2
}
