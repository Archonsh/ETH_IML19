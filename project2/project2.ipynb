{
 "cells": [
  {
   "cell_type": "code",
   "execution_count": 320,
   "metadata": {},
   "outputs": [],
   "source": [
    "import numpy as np\n",
    "import pandas as pd\n",
    "from sklearn.model_selection import train_test_split\n",
    "from sklearn.svm import SVC, NuSVC\n",
    "from sklearn.preprocessing import StandardScaler\n",
    "from sklearn.metrics import accuracy_score\n",
    "from sklearn.model_selection import KFold\n",
    "import csv"
   ]
  },
  {
   "cell_type": "code",
   "execution_count": 35,
   "metadata": {},
   "outputs": [],
   "source": [
    "df_train = pd.read_csv('./task2_s92hdj/train.csv')\n",
    "df_test = pd.read_csv('./task2_s92hdj/test.csv')"
   ]
  },
  {
   "cell_type": "markdown",
   "metadata": {},
   "source": [
    "**Discovery**  \n",
    "- Balanced dataset -> 0,1,2 around 1/3 each  \n",
    "- feature x10 == x18 == x20 \n",
    "- x9 == x19\n",
    "\n",
    "**Goal**\n",
    "- hard baseline: 0.814814814815  \n",
    "- medium baseline: 0.779100529101  \n",
    "- easy baseline: 0.763888888889"
   ]
  },
  {
   "cell_type": "code",
   "execution_count": 214,
   "metadata": {
    "scrolled": true
   },
   "outputs": [],
   "source": [
    "X = df_train.loc[:,'x1':'x20']\n",
    "y = df_train.loc[:,'y']\n",
    "X_submission = df_test.loc[:, 'x1':'x20']"
   ]
  },
  {
   "cell_type": "code",
   "execution_count": 189,
   "metadata": {
    "scrolled": true
   },
   "outputs": [],
   "source": [
    "# scaler = StandardScaler()\n",
    "# X = scaler.fit_transform(X)"
   ]
  },
  {
   "cell_type": "code",
   "execution_count": 293,
   "metadata": {},
   "outputs": [],
   "source": [
    "X_train, X_test, y_train, y_test = train_test_split(X,y,test_size=0.2)"
   ]
  },
  {
   "cell_type": "code",
   "execution_count": null,
   "metadata": {},
   "outputs": [],
   "source": [
    "deg = 5\n",
    "params = [.1,.15,.2,.25,.5,.6]\n",
    "score = np.zeros(len(params))\n",
    "kf = KFold(n_splits=10, shuffle=False)\n",
    "\n",
    "for train_idx, val_idx in kf.split(X_train):\n",
    "    for i in range(len(params)):\n",
    "        clf = NuSVC(nu=params[i], kernel='poly', degree=deg)\n",
    "        clf.fit(X_train.iloc[train_idx], y_train.iloc[train_idx])\n",
    "        y_val = clf.predict(X_train.iloc[val_idx])\n",
    "        score[i]+=accuracy_score(y_train.iloc[val_idx], y_val)"
   ]
  },
  {
   "cell_type": "code",
   "execution_count": null,
   "metadata": {},
   "outputs": [],
   "source": [
    "best_param = params[np.argmax(score)]\n",
    "print(\"Best nu: %.2f\" % best_param)"
   ]
  },
  {
   "cell_type": "code",
   "execution_count": null,
   "metadata": {},
   "outputs": [],
   "source": [
    "clf=NuSVC(nu=best_param, kernel='poly', degree=deg)\n",
    "clf.fit(X_train, y_train)\n",
    "y_predict = clf.predict(X_test)"
   ]
  },
  {
   "cell_type": "code",
   "execution_count": null,
   "metadata": {},
   "outputs": [],
   "source": [
    "ts = accuracy_score(y_test, y_predict) \n",
    "print(\"Test score: %.5f\" % ts)"
   ]
  },
  {
   "cell_type": "code",
   "execution_count": null,
   "metadata": {},
   "outputs": [],
   "source": [
    "y_submission = clf.predict(X_submission)\n",
    "df = pd.DataFrame({'Id': range(2000, 5000),'y':y_submission})\n"
   ]
  },
  {
   "cell_type": "code",
   "execution_count": 336,
   "metadata": {},
   "outputs": [],
   "source": [
    "df.to_csv('./task2_s92hdj/NuSVC_%f_%f_%d.csv' % (best_param, ts, deg), index=False)"
   ]
  },
  {
   "cell_type": "code",
   "execution_count": null,
   "metadata": {},
   "outputs": [],
   "source": []
  }
 ],
 "metadata": {
  "kernelspec": {
   "display_name": "Python 3",
   "language": "python",
   "name": "python3"
  },
  "language_info": {
   "codemirror_mode": {
    "name": "ipython",
    "version": 3
   },
   "file_extension": ".py",
   "mimetype": "text/x-python",
   "name": "python",
   "nbconvert_exporter": "python",
   "pygments_lexer": "ipython3",
   "version": "3.6.4"
  }
 },
 "nbformat": 4,
 "nbformat_minor": 2
}
